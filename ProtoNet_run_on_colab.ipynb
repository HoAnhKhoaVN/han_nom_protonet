{
  "nbformat": 4,
  "nbformat_minor": 0,
  "metadata": {
    "colab": {
      "provenance": [],
      "gpuType": "T4"
    },
    "kernelspec": {
      "name": "python3",
      "display_name": "Python 3"
    },
    "language_info": {
      "name": "python"
    },
    "accelerator": "GPU"
  },
  "cells": [
    {
      "cell_type": "markdown",
      "source": [
        "# Mount drive"
      ],
      "metadata": {
        "id": "Trvgc2mxm6kt"
      }
    },
    {
      "cell_type": "code",
      "execution_count": null,
      "metadata": {
        "id": "0zumotG6msS3"
      },
      "outputs": [],
      "source": [
        "from google.colab import drive\n",
        "drive.mount('/content/drive')"
      ]
    },
    {
      "cell_type": "markdown",
      "source": [
        "# Clone code"
      ],
      "metadata": {
        "id": "JhRb8qJdLADJ"
      }
    },
    {
      "cell_type": "code",
      "source": [
        "!git clone https://github.com/HoAnhKhoaVN/han_nom_protonet.git\n",
        "%cd han_nom_protonet\n",
        "!pip install -r requirements.txt\n",
        "%cd src"
      ],
      "metadata": {
        "id": "IDc6wmzBLFxv"
      },
      "execution_count": null,
      "outputs": []
    },
    {
      "cell_type": "markdown",
      "source": [
        "# Dataset"
      ],
      "metadata": {
        "id": "_IyiFDBRah-o"
      }
    },
    {
      "cell_type": "code",
      "source": [
        "import os\n",
        "from tqdm.notebook import tqdm"
      ],
      "metadata": {
        "id": "X36CGJ8Waug-"
      },
      "execution_count": null,
      "outputs": []
    },
    {
      "cell_type": "code",
      "source": [
        "!gdown 1RZvPJdAVJWscYLNcTiX9yQhRfzYQw8nY"
      ],
      "metadata": {
        "id": "PC1n0zRxnwtI"
      },
      "execution_count": null,
      "outputs": []
    },
    {
      "cell_type": "code",
      "source": [
        "# !unzip -q /content/drive/MyDrive/Master/NLP/demo_ds.zip\n",
        "!unzip -q dataset_han_nom_real_synth.zip # Time: ~1:40s"
      ],
      "metadata": {
        "id": "Hx5UUAErn9RH"
      },
      "execution_count": null,
      "outputs": []
    },
    {
      "cell_type": "code",
      "source": [
        "DS_PATH = 'dataset_han_nom_real_synth'"
      ],
      "metadata": {
        "id": "43nNlUoYoM6f"
      },
      "execution_count": null,
      "outputs": []
    },
    {
      "cell_type": "markdown",
      "source": [
        "## Detete empty folder in train, test and valid"
      ],
      "metadata": {
        "id": "l_BjiuHroGxC"
      }
    },
    {
      "cell_type": "code",
      "source": [
        "PATH = os.path.join(DS_PATH, 'train')\n",
        "small_fds =[fd for fd in tqdm(os.listdir(PATH)) if len(os.listdir(os.path.join(PATH, fd))) < 247]\n",
        "for role in ['train', 'test', 'val']:\n",
        "  for fd in tqdm(small_fds, desc = f'Detele folder {role}'):\n",
        "    path = os.path.join(DS_PATH, role, fd)\n",
        "    os.system(command = f'rm -r {path}')"
      ],
      "metadata": {
        "id": "y59ptbgFoIpN"
      },
      "execution_count": null,
      "outputs": []
    },
    {
      "cell_type": "markdown",
      "source": [
        "## Handle empty valid"
      ],
      "metadata": {
        "id": "5Yj-m47zoTDK"
      }
    },
    {
      "cell_type": "code",
      "source": [
        "for fd in tqdm(os.listdir(f'{DS_PATH}/val'), desc = \"Handle empty valid: \"):\n",
        "  val_path = os.path.join(DS_PATH, 'val', fd)\n",
        "  if len(os.listdir(val_path)) < 5: # Empty\n",
        "    train_path = os.path.join(DS_PATH, 'train', fd)\n",
        "    addition = 5 - len(os.listdir(val_path))\n",
        "    topn_train = os.listdir(train_path)[:addition]\n",
        "\n",
        "    for fn in topn_train: # Chuyển `addition` ảnh từ tập train sang làm valid\n",
        "      src = os.path.join(train_path, fn)\n",
        "      tgt = os.path.join(val_path, fn)\n",
        "      os.system(command = f'mv {src} {tgt}')"
      ],
      "metadata": {
        "id": "H2SEElRkoOWG"
      },
      "execution_count": null,
      "outputs": []
    },
    {
      "cell_type": "code",
      "source": [
        "!ls /content/han_nom_protonet/src/dataset_han_nom_real_synth/test | wc -l"
      ],
      "metadata": {
        "id": "scaoHA8KnFHZ"
      },
      "execution_count": null,
      "outputs": []
    },
    {
      "cell_type": "code",
      "source": [
        "PATH = os.path.join(DS_PATH, 'train')\n",
        "small_fds =[len(os.listdir(os.path.join(PATH, fd))) for fd in tqdm(os.listdir(PATH))]\n",
        "min(small_fds)"
      ],
      "metadata": {
        "id": "Tftc2-8lqucd"
      },
      "execution_count": null,
      "outputs": []
    },
    {
      "cell_type": "code",
      "source": [
        "# !gdown 1_k1OKxubNwFgQAbCc81sG8fQfN-Z1Bzd\n",
        "# !unzip -q demo_ds.zip"
      ],
      "metadata": {
        "id": "r4rwbOeNL1f9"
      },
      "execution_count": null,
      "outputs": []
    },
    {
      "cell_type": "markdown",
      "source": [
        "# Train\n",
        "Sửa code trong `run.sh` để chạy\n"
      ],
      "metadata": {
        "id": "wkFM8rHQMQOH"
      }
    },
    {
      "cell_type": "code",
      "source": [
        "!sh run.sh"
      ],
      "metadata": {
        "id": "2hAmekjJMSEA"
      },
      "execution_count": null,
      "outputs": []
    },
    {
      "cell_type": "markdown",
      "source": [
        "# Show tensorboard"
      ],
      "metadata": {
        "id": "eVWSQwhnm-LN"
      }
    },
    {
      "cell_type": "code",
      "source": [
        "# Import tensorboard\n",
        "from torch.utils.tensorboard import SummaryWriter\n",
        "%load_ext tensorboard\n",
        "%tensorboard --logdir=/content/han_nom_protonet/src/exp"
      ],
      "metadata": {
        "id": "EOgxuPTzmIZt"
      },
      "execution_count": null,
      "outputs": []
    }
  ]
}